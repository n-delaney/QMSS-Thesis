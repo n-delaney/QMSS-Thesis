{
 "cells": [
  {
   "cell_type": "code",
   "execution_count": 1,
   "metadata": {},
   "outputs": [],
   "source": [
    "import re\n",
    "import numpy as np\n",
    "import pandas as pd"
   ]
  },
  {
   "cell_type": "code",
   "execution_count": 2,
   "metadata": {},
   "outputs": [],
   "source": [
    "file_path = 'codebook.txt'\n",
    "with open(file_path) as file:\n",
    "    text = file.read()"
   ]
  },
  {
   "cell_type": "code",
   "execution_count": 3,
   "metadata": {},
   "outputs": [],
   "source": [
    "clean = []\n",
    "\n",
    "for item in text.split('\\n'):\n",
    "    new = re.sub('\\.', '', item)\n",
    "    new = re.sub('\\. ', '', new)\n",
    "#     new = re.sub('XRND', ' ', new)\n",
    "    new = re.sub('YEMP,  RS', 'YEMP RS', new)\n",
    "    new = new.split('  ')\n",
    "    new_clean = []\n",
    "    for subitem in new:\n",
    "        if len(subitem) > 3:\n",
    "            new_clean.append(subitem)\n",
    "    out = {}\n",
    "    try:\n",
    "        out['ref'] = new_clean[0]\n",
    "        out['year'] = new_clean[1]\n",
    "        out['var'] = new_clean[2]\n",
    "        out['question'] = new_clean[3]\n",
    "    except:\n",
    "        out['ref'] = np.nan\n",
    "        out['year'] = np.nan\n",
    "        out['var'] = np.nan\n",
    "        out['question'] = np.nan\n",
    "    clean.append(out)"
   ]
  },
  {
   "cell_type": "code",
   "execution_count": 4,
   "metadata": {},
   "outputs": [],
   "source": [
    "codes = pd.DataFrame(clean)[:1366]\n",
    "codes['year_new'] = codes['var'].str.extract(r'(\\d{4})\\s')\n",
    "# codes.year = np.where(codes.year == 'XRND', \n",
    "#                      codes['year_new'], \n",
    "#                      codes['year'])\n",
    "# codes.loc[codes.year == 'XRND', 'year'] = codes.year_new\n",
    "# codes[(codes.year != '1999' & codes.year != 'NaN')]\n",
    "codes.to_csv('codes.csv')"
   ]
  },
  {
   "cell_type": "code",
   "execution_count": 17,
   "metadata": {},
   "outputs": [
    {
     "data": {
      "text/html": [
       "<div>\n",
       "<style scoped>\n",
       "    .dataframe tbody tr th:only-of-type {\n",
       "        vertical-align: middle;\n",
       "    }\n",
       "\n",
       "    .dataframe tbody tr th {\n",
       "        vertical-align: top;\n",
       "    }\n",
       "\n",
       "    .dataframe thead th {\n",
       "        text-align: right;\n",
       "    }\n",
       "</style>\n",
       "<table border=\"1\" class=\"dataframe\">\n",
       "  <thead>\n",
       "    <tr style=\"text-align: right;\">\n",
       "      <th></th>\n",
       "      <th>ref</th>\n",
       "      <th>year</th>\n",
       "      <th>var</th>\n",
       "      <th>question</th>\n",
       "      <th>year_new</th>\n",
       "    </tr>\n",
       "  </thead>\n",
       "  <tbody>\n",
       "    <tr>\n",
       "      <td>523</td>\n",
       "      <td>R1201500</td>\n",
       "      <td>1997</td>\n",
       "      <td>RS EMPLOYMENT STATUS RECODE</td>\n",
       "      <td>CV_ESR</td>\n",
       "      <td>NaN</td>\n",
       "    </tr>\n",
       "    <tr>\n",
       "      <td>634</td>\n",
       "      <td>R5528900</td>\n",
       "      <td>2000</td>\n",
       "      <td>RS EMPLOYMENT STATUS RECODE</td>\n",
       "      <td>CV_ESR</td>\n",
       "      <td>NaN</td>\n",
       "    </tr>\n",
       "    <tr>\n",
       "      <td>964</td>\n",
       "      <td>S7545300</td>\n",
       "      <td>2006</td>\n",
       "      <td>RS EMPLOYMENT STATUS RECODE</td>\n",
       "      <td>CV_ESR</td>\n",
       "      <td>NaN</td>\n",
       "    </tr>\n",
       "  </tbody>\n",
       "</table>\n",
       "</div>"
      ],
      "text/plain": [
       "          ref  year                          var question year_new\n",
       "523  R1201500  1997  RS EMPLOYMENT STATUS RECODE   CV_ESR      NaN\n",
       "634  R5528900  2000  RS EMPLOYMENT STATUS RECODE   CV_ESR      NaN\n",
       "964  S7545300  2006  RS EMPLOYMENT STATUS RECODE   CV_ESR      NaN"
      ]
     },
     "execution_count": 17,
     "metadata": {},
     "output_type": "execute_result"
    }
   ],
   "source": [
    "# codes[codes.var == 'RS COLLAPSED EMPLOYMENT STATUS RECODE', ]\n",
    "# codes[codes.ref == 'R5529000']\n",
    "# codes[codes.question == 'CV_ESR_COLLAPSED']\n",
    "codes[codes.question == 'CV_ESR']"
   ]
  },
  {
   "cell_type": "code",
   "execution_count": null,
   "metadata": {},
   "outputs": [],
   "source": []
  }
 ],
 "metadata": {
  "kernelspec": {
   "display_name": "Python 3",
   "language": "python",
   "name": "python3"
  },
  "language_info": {
   "codemirror_mode": {
    "name": "ipython",
    "version": 3
   },
   "file_extension": ".py",
   "mimetype": "text/x-python",
   "name": "python",
   "nbconvert_exporter": "python",
   "pygments_lexer": "ipython3",
   "version": "3.7.4"
  }
 },
 "nbformat": 4,
 "nbformat_minor": 4
}
