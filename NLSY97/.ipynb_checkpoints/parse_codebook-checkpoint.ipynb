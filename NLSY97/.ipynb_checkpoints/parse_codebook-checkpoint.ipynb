{
 "cells": [
  {
   "cell_type": "code",
   "execution_count": 75,
   "metadata": {},
   "outputs": [],
   "source": [
    "import re\n",
    "import numpy as np\n",
    "import pandas as pd"
   ]
  },
  {
   "cell_type": "code",
   "execution_count": 12,
   "metadata": {},
   "outputs": [],
   "source": [
    "file_path = 'codebook.txt'\n",
    "with open(file_path) as file:\n",
    "    text = file.read()"
   ]
  },
  {
   "cell_type": "code",
   "execution_count": 73,
   "metadata": {},
   "outputs": [],
   "source": [
    "clean = []\n",
    "\n",
    "for item in text.split('\\n'):\n",
    "    new = re.sub('\\.', '', item)\n",
    "    new = re.sub('\\. ', '', new)\n",
    "#     new = re.sub('XRND', ' ', new)\n",
    "    new = re.sub('YEMP,  RS', 'YEMP RS', new)\n",
    "    new = new.split('  ')\n",
    "    new_clean = []\n",
    "    for subitem in new:\n",
    "        if len(subitem) > 3:\n",
    "            new_clean.append(subitem)\n",
    "    out = {}\n",
    "    try:\n",
    "        out['ref'] = new_clean[0]\n",
    "        out['year'] = new_clean[1]\n",
    "        out['var'] = new_clean[2]\n",
    "        out['question'] = new_clean[3]\n",
    "    except:\n",
    "        out['ref'] = np.nan\n",
    "        out['year'] = np.nan\n",
    "        out['var'] = np.nan\n",
    "        out['question'] = np.nan\n",
    "    clean.append(out)"
   ]
  },
  {
   "cell_type": "code",
   "execution_count": 136,
   "metadata": {},
   "outputs": [],
   "source": [
    "codes = pd.DataFrame(clean)[:1366]\n",
    "codes['year_new'] = codes['var'].str.extract(r'(\\d{4})\\s')\n",
    "# codes.year = np.where(codes.year == 'XRND', \n",
    "#                      codes['year_new'], \n",
    "#                      codes['year'])\n",
    "# codes.loc[codes.year == 'XRND', 'year'] = codes.year_new\n",
    "# codes[(codes.year != '1999' & codes.year != 'NaN')]\n",
    "codes.to_csv('codes.csv')"
   ]
  },
  {
   "cell_type": "code",
   "execution_count": null,
   "metadata": {},
   "outputs": [],
   "source": []
  }
 ],
 "metadata": {
  "kernelspec": {
   "display_name": "Python 3",
   "language": "python",
   "name": "python3"
  },
  "language_info": {
   "codemirror_mode": {
    "name": "ipython",
    "version": 3
   },
   "file_extension": ".py",
   "mimetype": "text/x-python",
   "name": "python",
   "nbconvert_exporter": "python",
   "pygments_lexer": "ipython3",
   "version": "3.7.4"
  }
 },
 "nbformat": 4,
 "nbformat_minor": 4
}
