{
 "cells": [
  {
   "cell_type": "code",
   "execution_count": 30,
   "metadata": {},
   "outputs": [],
   "source": [
    "import re\n",
    "import numpy as np\n",
    "import pandas as pd"
   ]
  },
  {
   "cell_type": "code",
   "execution_count": 31,
   "metadata": {},
   "outputs": [],
   "source": [
    "file_path = 'codebook_79.txt'\n",
    "with open(file_path) as file:\n",
    "    text = file.read()"
   ]
  },
  {
   "cell_type": "code",
   "execution_count": 32,
   "metadata": {},
   "outputs": [],
   "source": [
    "codebook = []\n",
    "\n",
    "for item in text.split('\\n'):\n",
    "    item = re.sub('\\.|\\.\\s', '', item)\n",
    "    item = re.sub('   ', '  ', item)\n",
    "    item = re.sub('   ', '  ', item)\n",
    "    item = re.sub('   ', '  ', item)\n",
    "    item = re.sub('   ', '  ', item)\n",
    "    item = re.sub('   ', '  ', item)\n",
    "    item = re.sub('   ', '  ', item)\n",
    "    item = re.sub('   ', '  ', item)\n",
    "    item = re.sub('   ', '  ', item)\n",
    "    item = re.sub('   ', '  ', item)\n",
    "    item = re.sub('   ', '  ', item)\n",
    "    item = re.sub('   ', '  ', item)\n",
    "    item = re.sub('   ', '  ', item)\n",
    "    item = re.sub('   ', '  ', item)\n",
    "    item = re.sub('   ', '  ', item)\n",
    "    item_list = item.split('  ')\n",
    "    item_dict = {}\n",
    "    if len(item_list) > 1:\n",
    "        item_dict['ref'] = item_list[0]\n",
    "        item_dict['year'] = item_list[1]\n",
    "        item_dict['var'] = item_list[2]\n",
    "        item_dict['question'] = item_list[3]\n",
    "    codebook.append(item_dict)\n",
    "    \n",
    "pd.DataFrame(codebook).to_csv('codebook_79.csv')"
   ]
  },
  {
   "cell_type": "code",
   "execution_count": 33,
   "metadata": {},
   "outputs": [],
   "source": [
    "codes = pd.read_csv('codebook_79.csv').drop(columns='Unnamed: 0')"
   ]
  },
  {
   "cell_type": "code",
   "execution_count": 34,
   "metadata": {},
   "outputs": [
    {
     "data": {
      "text/html": [
       "<div>\n",
       "<style scoped>\n",
       "    .dataframe tbody tr th:only-of-type {\n",
       "        vertical-align: middle;\n",
       "    }\n",
       "\n",
       "    .dataframe tbody tr th {\n",
       "        vertical-align: top;\n",
       "    }\n",
       "\n",
       "    .dataframe thead th {\n",
       "        text-align: right;\n",
       "    }\n",
       "</style>\n",
       "<table border=\"1\" class=\"dataframe\">\n",
       "  <thead>\n",
       "    <tr style=\"text-align: right;\">\n",
       "      <th></th>\n",
       "      <th>ref</th>\n",
       "      <th>year</th>\n",
       "      <th>var</th>\n",
       "      <th>question</th>\n",
       "    </tr>\n",
       "  </thead>\n",
       "  <tbody>\n",
       "    <tr>\n",
       "      <td>402</td>\n",
       "      <td>T1215600</td>\n",
       "      <td>2008</td>\n",
       "      <td>NAME OF HIGHEST DEGREE EVER RECEIVED?</td>\n",
       "      <td>Q3-10D</td>\n",
       "    </tr>\n",
       "  </tbody>\n",
       "</table>\n",
       "</div>"
      ],
      "text/plain": [
       "          ref  year                                    var question\n",
       "402  T1215600  2008  NAME OF HIGHEST DEGREE EVER RECEIVED?   Q3-10D"
      ]
     },
     "execution_count": 34,
     "metadata": {},
     "output_type": "execute_result"
    }
   ],
   "source": [
    "# codes[codes['var'].str.contains('TOTAL INCOME FROM WAGES AND SALARY IN PAST') == True]\n",
    "codes[codes['var'].str.contains('DEGREE') == True]"
   ]
  },
  {
   "cell_type": "code",
   "execution_count": null,
   "metadata": {},
   "outputs": [],
   "source": []
  },
  {
   "cell_type": "code",
   "execution_count": null,
   "metadata": {},
   "outputs": [],
   "source": []
  },
  {
   "cell_type": "code",
   "execution_count": null,
   "metadata": {},
   "outputs": [],
   "source": []
  }
 ],
 "metadata": {
  "kernelspec": {
   "display_name": "Python 3",
   "language": "python",
   "name": "python3"
  },
  "language_info": {
   "codemirror_mode": {
    "name": "ipython",
    "version": 3
   },
   "file_extension": ".py",
   "mimetype": "text/x-python",
   "name": "python",
   "nbconvert_exporter": "python",
   "pygments_lexer": "ipython3",
   "version": "3.7.4"
  }
 },
 "nbformat": 4,
 "nbformat_minor": 4
}
