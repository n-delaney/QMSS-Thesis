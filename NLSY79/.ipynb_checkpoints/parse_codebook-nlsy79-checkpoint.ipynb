{
 "cells": [
  {
   "cell_type": "code",
   "execution_count": 4,
   "metadata": {},
   "outputs": [],
   "source": [
    "import re\n",
    "import numpy as np\n",
    "import pandas as pd"
   ]
  },
  {
   "cell_type": "code",
   "execution_count": 5,
   "metadata": {},
   "outputs": [],
   "source": [
    "file_path = 'codebook_79.txt'\n",
    "with open(file_path) as file:\n",
    "    text = file.read()"
   ]
  },
  {
   "cell_type": "code",
   "execution_count": 7,
   "metadata": {},
   "outputs": [],
   "source": [
    "codebook = []\n",
    "\n",
    "for item in text.split('\\n'):\n",
    "    item = re.sub('\\.|\\.\\s', '', item)\n",
    "    item = re.sub('   ', '  ', item)\n",
    "    item = re.sub('   ', '  ', item)\n",
    "    item = re.sub('   ', '  ', item)\n",
    "    item = re.sub('   ', '  ', item)\n",
    "    item = re.sub('   ', '  ', item)\n",
    "    item = re.sub('   ', '  ', item)\n",
    "    item = re.sub('   ', '  ', item)\n",
    "    item = re.sub('   ', '  ', item)\n",
    "    item = re.sub('   ', '  ', item)\n",
    "    item = re.sub('   ', '  ', item)\n",
    "    item = re.sub('   ', '  ', item)\n",
    "    item = re.sub('   ', '  ', item)\n",
    "    item = re.sub('   ', '  ', item)\n",
    "    item = re.sub('   ', '  ', item)\n",
    "    item_list = item.split('  ')\n",
    "    item_dict = {}\n",
    "    if len(item_list) > 1:\n",
    "        item_dict['ref'] = item_list[0]\n",
    "        item_dict['year'] = item_list[1]\n",
    "        item_dict['var'] = item_list[2]\n",
    "        item_dict['question'] = item_list[3]\n",
    "    codebook.append(item_dict)\n",
    "    \n",
    "pd.DataFrame(codebook).to_csv('codebook_79.csv')"
   ]
  },
  {
   "cell_type": "code",
   "execution_count": null,
   "metadata": {},
   "outputs": [],
   "source": []
  }
 ],
 "metadata": {
  "kernelspec": {
   "display_name": "Python 3",
   "language": "python",
   "name": "python3"
  },
  "language_info": {
   "codemirror_mode": {
    "name": "ipython",
    "version": 3
   },
   "file_extension": ".py",
   "mimetype": "text/x-python",
   "name": "python",
   "nbconvert_exporter": "python",
   "pygments_lexer": "ipython3",
   "version": "3.7.4"
  }
 },
 "nbformat": 4,
 "nbformat_minor": 4
}
